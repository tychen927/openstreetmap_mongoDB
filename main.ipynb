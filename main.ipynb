{
 "cells": [
  {
   "cell_type": "markdown",
   "metadata": {},
   "source": [
    "# overview\n",
    "\n",
    "## error identified\n",
    "I identified 2 major errors in this documents:\n",
    "- incorret sequence or duplicate info (e.g. Taipei City Taipei City) in the address (in \"relation\"s)\n",
    "- info in address doesn't match other fields\n",
    "\n",
    "## data size\n",
    "taipei_map.osm 69.7MB\n",
    "\n",
    "## A copy of my OSM file\n",
    "https://www.dropbox.com/s/p4tevgig9mo4fh5/taipei_map.osm?dl=0"
   ]
  },
  {
   "cell_type": "markdown",
   "metadata": {},
   "source": [
    "# Some comments on the dataset\n",
    "\n",
    "## some problems & potential solutions\n",
    "- I validate the dataset using different values across each tag. However, when the two tags are in conflict, I have no way to know which one is actually correct. One possible solution is to import external data to validate.\n",
    "- \"address\" has a lot of different format. My current setting might be just one of them. If we cannot ensure future entries will follow the same format, we might end up with a database that's still quite a mess.\n",
    "- The concerns above can also be applied to \"name\"s.\n",
    "\n",
    "## other enhancements\n",
    "- By importing external data like google maps, we can potentially:\n",
    "    - cross-validate the data to ensure higher accuracy\n",
    "    - supplement some of the data that we currently don't have\n",
    "- If we can establish a format for fields like addresses or names, it might just be a lot easier to clean the data and maintain the database schema\n",
    "\n",
    "## potential problems with the enhacements\n",
    "- importing external data might be problematic and expensive for the following reason:\n",
    "    - external data might be stored in different format, and converting format is expensive\n",
    "    - acquiring external data itself can be expensive, costing us actual money or negotiation time\n",
    "    - when the external data and our data conflicts, we still don't know how to resolve the conflict\n",
    "    - external data has its own internal inconsistence, if we wanna import them, we also have to deal with that\n",
    "- establishing a format to follow might be troublesome for the following reason:\n",
    "    - we might have no control over the one inputting the data\n",
    "    - even if we do, it's hard to control human behavior if we don't have any incentive for them"
   ]
  },
  {
   "cell_type": "markdown",
   "metadata": {},
   "source": [
    "# data loading"
   ]
  },
  {
   "cell_type": "code",
   "execution_count": 1,
   "metadata": {
    "collapsed": false
   },
   "outputs": [],
   "source": [
    "from pymongo import MongoClient\n",
    "import pprint\n",
    "import xml.etree.ElementTree as et\n",
    "import xmltodict\n",
    "import json\n",
    "from xmljson import badgerfish as bf\n",
    "from bson.objectid import ObjectId\n",
    "import matplotlib.pyplot as mt"
   ]
  },
  {
   "cell_type": "code",
   "execution_count": 233,
   "metadata": {
    "collapsed": false
   },
   "outputs": [],
   "source": [
    "osm_file = \"taipei_map.osm\"\n",
    "# connect to mongodb\n",
    "client = MongoClient ('mongodb://localhost:27017/')\n",
    "# indicating database\n",
    "db=client.tests"
   ]
  },
  {
   "cell_type": "markdown",
   "metadata": {},
   "source": [
    "# cleaning & then parsing data"
   ]
  },
  {
   "cell_type": "code",
   "execution_count": 234,
   "metadata": {
    "collapsed": false
   },
   "outputs": [
    {
     "data": {
      "text/plain": [
       "<pymongo.results.DeleteResult at 0x1778862d0>"
      ]
     },
     "execution_count": 234,
     "metadata": {},
     "output_type": "execute_result"
    }
   ],
   "source": [
    "db.osm.delete_many({})"
   ]
  },
  {
   "cell_type": "markdown",
   "metadata": {},
   "source": [
    "## relation"
   ]
  },
  {
   "cell_type": "code",
   "execution_count": 235,
   "metadata": {
    "collapsed": false
   },
   "outputs": [],
   "source": [
    "for event, elem in et.iterparse(osm_file,events = (\"start\",)):\n",
    "    if elem.tag == \"relation\":\n",
    "        result_dict = {}\n",
    "        result_dict.update({\"object_type\":\"relation\"})\n",
    "        result_dict.update(elem.attrib)\n",
    "        for a in elem.iter(\"tag\"):\n",
    "            if a.attrib[\"k\"].find(\":\") != -1:\n",
    "                name_split = a.attrib[\"k\"].split(\":\")\n",
    "                if name_split[1] ==\"full\":\n",
    "                    addr = reformatter(full_addr)\n",
    "                    addr_dict.update({name_split[1]:addr})\n",
    "                elif name_split[1] == \"city\":\n",
    "                    if a.attrib[\"v\"]!=get_name(full_addr,\"city\") and get_name(full_addr,\"city\")!=\"\" and type(get_name(full_addr,\"city\"))!=None:\n",
    "                        addr_dict.update({name_split[1]:get_name(full_addr,\"city\")})\n",
    "                    else:\n",
    "                        addr_dict.update({name_split[1]:a.attrib[\"v\"]})\n",
    "                elif name_split[1] == \"street\":\n",
    "                    if a.attrib[\"v\"]!=get_street(full_addr) and get_street(full_addr)!=\"\" and get_street(full_addr) is not None:\n",
    "                        addr_dict.update({name_split[1]:get_street(full_addr)})\n",
    "                            #print a.attrib[\"v\"],\"xxxx\",get_street(full_addr)\n",
    "                    else:\n",
    "                        addr_dict.update({name_split[1]:a.attrib[\"v\"]})\n",
    "                elif name_split[1] == \"district\":\n",
    "                    if a.attrib[\"v\"]!=get_name(full_addr,\"district\") and get_name(full_addr,\"district\")!=\"\" and type(get_name(full_addr,\"district\"))!=None:\n",
    "                        addr_dict.update({name_split[1]:get_name(full_addr,\"district\")})\n",
    "                            #print a.attrib[\"v\"],\"xxx\",get_name(full_addr,\"district\")\n",
    "                    else:\n",
    "                        addr_dict.update({name_split[1]:a.attrib[\"v\"]})\n",
    "                elif name_split[1] == \"postcode\":\n",
    "                    if a.attrib[\"v\"]!=get_name(full_addr,\"postcode\") and get_name(full_addr,\"postcode\")!=\"\" and get_name(full_addr,\"postcode\")!=\"None\":\n",
    "                        addr_dict.update({name_split[1]:get_name(full_addr,\"postcode\")})\n",
    "                            #print a.attrib[\"v\"],\"xxx\",get_name(full_addr,\"postcode\")\n",
    "                    else:\n",
    "                        addr_dict.update({name_split[1]:a.attrib[\"v\"]})\n",
    "                else:\n",
    "                    pass\n",
    "        result_dict.update({\"addr\":addr_dict})\n",
    "        for a in elem.iter(\"tag\"):\n",
    "            if a.attrib[\"k\"].find(\":\") != -1:\n",
    "                name_split = a.attrib[\"k\"].split(\":\")\n",
    "                content = a.attrib[\"v\"]\n",
    "                if name_split[0] != \"addr\":\n",
    "                    if name_split[0] in result_dict:\n",
    "                        if type(result_dict[name_split[0]]) is not dict:\n",
    "                            result_dict[name_split[0]] = {name_split[0]:result_dict[name_split[0]]}\n",
    "                        else:\n",
    "                            pass\n",
    "                        result_dict[name_split[0]].update({name_split[1]:content})\n",
    "                    else:\n",
    "                        result_dict[name_split[0]] = {name_split[1]:content}\n",
    "                else:\n",
    "                    pass\n",
    "            else:\n",
    "                content = a.attrib[\"v\"]\n",
    "                result_dict.update({a.attrib[\"k\"]:content})\n",
    "        db.osm.insert_one(result_dict)"
   ]
  },
  {
   "cell_type": "markdown",
   "metadata": {},
   "source": [
    "## node"
   ]
  },
  {
   "cell_type": "code",
   "execution_count": 236,
   "metadata": {
    "collapsed": false
   },
   "outputs": [],
   "source": [
    "for event, elem in et.iterparse(osm_file,events = (\"start\",)):\n",
    "    if elem.tag == \"node\":\n",
    "        result_dict = {}\n",
    "        result_dict.update({\"object_type\":\"node\"})\n",
    "        result_dict.update(elem.attrib)\n",
    "        for a in elem.iter(\"tag\"):\n",
    "            if a.attrib[\"k\"].find(\":\") != -1:\n",
    "                name_split = a.attrib[\"k\"].split(\":\")\n",
    "                content = a.attrib[\"v\"]\n",
    "                result_dict[name_split[0]] = {name_split[1]:content}\n",
    "            else:\n",
    "                content = a.attrib[\"v\"]\n",
    "                result_dict.update({a.attrib[\"k\"]:content})\n",
    "        db.osm.insert_one(result_dict)"
   ]
  },
  {
   "cell_type": "markdown",
   "metadata": {},
   "source": [
    "## ways"
   ]
  },
  {
   "cell_type": "code",
   "execution_count": 237,
   "metadata": {
    "collapsed": false
   },
   "outputs": [],
   "source": [
    "for event, elem in et.iterparse(osm_file,events = (\"start\",)):\n",
    "    if elem.tag == \"way\":\n",
    "        result_dict = {}\n",
    "        result_dict.update({\"object_type\":\"way\"})\n",
    "        result_dict.update(elem.attrib)\n",
    "        for a in elem.iter(\"tag\"):\n",
    "            if a.attrib[\"k\"].find(\":\") != -1:\n",
    "                name_split = a.attrib[\"k\"].split(\":\")\n",
    "                if name_split[1] ==\"full\":\n",
    "                    addr = reformatter(full_addr)\n",
    "                    addr_dict.update({name_split[1]:addr})\n",
    "                elif name_split[1] == \"city\":\n",
    "                    if a.attrib[\"v\"]!=get_name(full_addr,\"city\") and get_name(full_addr,\"city\")!=\"\" and type(get_name(full_addr,\"city\"))!=None:\n",
    "                        addr_dict.update({name_split[1]:get_name(full_addr,\"city\")})\n",
    "                    else:\n",
    "                        addr_dict.update({name_split[1]:a.attrib[\"v\"]})\n",
    "                elif name_split[1] == \"street\":\n",
    "                    if a.attrib[\"v\"]!=get_street(full_addr) and get_street(full_addr)!=\"\" and get_street(full_addr) is not None:\n",
    "                        addr_dict.update({name_split[1]:get_street(full_addr)})\n",
    "                            #print a.attrib[\"v\"],\"xxxx\",get_street(full_addr)\n",
    "                    else:\n",
    "                        addr_dict.update({name_split[1]:a.attrib[\"v\"]})\n",
    "                elif name_split[1] == \"district\":\n",
    "                    if a.attrib[\"v\"]!=get_name(full_addr,\"district\") and get_name(full_addr,\"district\")!=\"\" and type(get_name(full_addr,\"district\"))!=None:\n",
    "                        addr_dict.update({name_split[1]:get_name(full_addr,\"district\")})\n",
    "                            #print a.attrib[\"v\"],\"xxx\",get_name(full_addr,\"district\")\n",
    "                    else:\n",
    "                        addr_dict.update({name_split[1]:a.attrib[\"v\"]})\n",
    "                elif name_split[1] == \"postcode\":\n",
    "                    if a.attrib[\"v\"]!=get_name(full_addr,\"postcode\") and get_name(full_addr,\"postcode\")!=\"\" and get_name(full_addr,\"postcode\")!=\"None\":\n",
    "                        addr_dict.update({name_split[1]:get_name(full_addr,\"postcode\")})\n",
    "                            #print a.attrib[\"v\"],\"xxx\",get_name(full_addr,\"postcode\")\n",
    "                    else:\n",
    "                        addr_dict.update({name_split[1]:a.attrib[\"v\"]})\n",
    "                else:\n",
    "                    pass\n",
    "        result_dict.update({\"addr\":addr_dict})\n",
    "        for a in elem.iter(\"tag\"):\n",
    "            if a.attrib[\"k\"].find(\":\") != -1:\n",
    "                name_split = a.attrib[\"k\"].split(\":\")\n",
    "                content = a.attrib[\"v\"]\n",
    "                if name_split[0] != \"addr\":\n",
    "                    if name_split[0] in result_dict:\n",
    "                        if type(result_dict[name_split[0]]) is not dict:\n",
    "                            result_dict[name_split[0]] = {name_split[0]:result_dict[name_split[0]]}\n",
    "                        else:\n",
    "                            pass\n",
    "                        result_dict[name_split[0]].update({name_split[1]:content})\n",
    "                    else:\n",
    "                        result_dict[name_split[0]] = {name_split[1]:content}\n",
    "                else:\n",
    "                    pass\n",
    "            else:\n",
    "                content = a.attrib[\"v\"]\n",
    "                result_dict.update({a.attrib[\"k\"]:content})\n",
    "        db.osm.insert_one(result_dict)"
   ]
  },
  {
   "cell_type": "markdown",
   "metadata": {},
   "source": [
    "# Some basic characterstics of the dataset"
   ]
  },
  {
   "cell_type": "code",
   "execution_count": 238,
   "metadata": {
    "collapsed": false
   },
   "outputs": [
    {
     "data": {
      "text/plain": [
       "{u'_id': ObjectId('59427bd407ab8845f6971dcf'),\n",
       " u'addr': {u'city': u'\\u53f0\\u5317\\u5e02',\n",
       "  u'district': u'\\u58eb\\u6797\\u5340',\n",
       "  u'full': u'\\u53f0\\u5317\\u5e02\\u58eb\\u6797\\u5340\\u5ef6\\u5e73\\u5317\\u8def\\u4e5d\\u6bb5212\\u865f',\n",
       "  u'housenumber': u'285',\n",
       "  u'postcode': u'11174',\n",
       "  u'street': u'\\u5ef6\\u5e73\\u5317\\u8def\\u4e5d\\u6bb5'},\n",
       " u'amenity': u'school',\n",
       " u'changeset': u'34823124',\n",
       " u'id': u'33574',\n",
       " u'name': u'\\u897f\\u9580\\u570b\\u5c0f',\n",
       " u'object_type': u'relation',\n",
       " u'official_name': u'\\u81fa\\u5317\\u5e02\\u842c\\u83ef\\u5340\\u897f\\u9580\\u570b\\u6c11\\u5c0f\\u5b78',\n",
       " u'operator': u'\\u81fa\\u5317\\u5e02\\u653f\\u5e9c\\u6559\\u80b2\\u5c40',\n",
       " u'phone': u'+886-2-2389-2182',\n",
       " u'timestamp': u'2015-10-23T15:44:41Z',\n",
       " u'type': u'multipolygon',\n",
       " u'uid': u'1215520',\n",
       " u'user': u'bananatw',\n",
       " u'version': u'12',\n",
       " u'website': u'http://core.hmes.tp.edu.tw/'}"
      ]
     },
     "execution_count": 238,
     "metadata": {},
     "output_type": "execute_result"
    }
   ],
   "source": [
    "db.osm.find_one()"
   ]
  },
  {
   "cell_type": "code",
   "execution_count": 239,
   "metadata": {
    "collapsed": false
   },
   "outputs": [
    {
     "name": "stdout",
     "output_type": "stream",
     "text": [
      "total count: 324664\n",
      "way count: 49121\n",
      "node count: 272346\n",
      "relation count: 3197\n"
     ]
    }
   ],
   "source": [
    "total_in_way = db.osm.find({\"object_type\":\"way\"}).count()\n",
    "total_in_node = db.osm.find({\"object_type\":\"node\"}).count()\n",
    "total_in_relation = db.osm.find({\"object_type\":\"relation\"}).count()\n",
    "print \"total count:\",total_in_way+total_in_node+total_in_relation\n",
    "print \"way count:\",total_in_way\n",
    "print \"node count:\",total_in_node\n",
    "print \"relation count:\",total_in_relation"
   ]
  },
  {
   "cell_type": "code",
   "execution_count": 253,
   "metadata": {
    "collapsed": false
   },
   "outputs": [
    {
     "name": "stdout",
     "output_type": "stream",
     "text": [
      "the num of distinct contributers in way: 689\n",
      "the num of distinct contributers in node: 1234\n",
      "the num of distinct contributers in relation: 103\n"
     ]
    }
   ],
   "source": [
    "# num of distinct users\n",
    "pipeline = [\n",
    "    {\"$match\":{\"object_type\":\"way\"}},\n",
    "    {\"$group\":{\"_id\":\"$user\"}},\n",
    "    {\"$group\":{\"_id\":1,\"count\":{\"$sum\":1}}}\n",
    "]\n",
    "for a in db.osm.aggregate(pipeline):\n",
    "    print \"the num of distinct contributers in way:\", a[\"count\"]\n",
    "pipeline = [\n",
    "    {\"$match\":{\"object_type\":\"node\"}},\n",
    "    {\"$group\":{\"_id\":\"$user\"}},\n",
    "    {\"$group\":{\"_id\":1,\"count\":{\"$sum\":1}}}\n",
    "]\n",
    "for a in db.osm.aggregate(pipeline):\n",
    "    print \"the num of distinct contributers in node:\", a[\"count\"]\n",
    "pipeline = [\n",
    "    {\"$match\":{\"object_type\":\"relation\"}},\n",
    "    {\"$group\":{\"_id\":\"$user\"}},\n",
    "    {\"$group\":{\"_id\":1,\"count\":{\"$sum\":1}}}\n",
    "]\n",
    "for a in db.osm.aggregate(pipeline):\n",
    "    print \"the num of distinct contributers in relation:\", a[\"count\"]"
   ]
  },
  {
   "cell_type": "code",
   "execution_count": 258,
   "metadata": {
    "collapsed": false
   },
   "outputs": [
    {
     "name": "stdout",
     "output_type": "stream",
     "text": [
      "Way  1 th contributer:\n",
      "name:  Supaplex  ; count: 18617\n",
      "Way  2 th contributer:\n",
      "name:  mxt305  ; count: 2535\n",
      "Way  3 th contributer:\n",
      "name:  Littlebtc  ; count: 2403\n",
      "----------------\n",
      "Node  1 th contributer:\n",
      "name:  Supaplex  ; count: 91348\n",
      "Node  2 th contributer:\n",
      "name:  Littlebtc  ; count: 13087\n",
      "Node  3 th contributer:\n",
      "name:  愛台玩  ; count: 8297\n",
      "----------------\n",
      "Relation  1 th contributer:\n",
      "name:  Supaplex  ; count: 2299\n",
      "Relation  2 th contributer:\n",
      "name:  nyuriks  ; count: 172\n",
      "Relation  3 th contributer:\n",
      "name:  Littlebtc  ; count: 116\n"
     ]
    }
   ],
   "source": [
    "# the biggest contributer of each category\n",
    "pipeline = [\n",
    "    {\"$match\":{\"object_type\":\"way\"}},\n",
    "    {\"$group\":{\"_id\":\"$user\",\"count\":{\"$sum\":1}}},\n",
    "    {\"$sort\":{\"count\":-1}},\n",
    "    {\"$limit\":3}\n",
    "]\n",
    "i = 1\n",
    "for a in db.osm.aggregate(pipeline):\n",
    "    print \"Way \",i,\"th contributer:\"\n",
    "    print \"name: \",a[u'_id'],\" ; count:\",a[u'count']\n",
    "    i+=1\n",
    "print \"----------------\"\n",
    "pipeline = [\n",
    "    {\"$match\":{\"object_type\":\"node\"}},\n",
    "    {\"$group\":{\"_id\":\"$user\",\"count\":{\"$sum\":1}}},\n",
    "    {\"$sort\":{\"count\":-1}},\n",
    "    {\"$limit\":3}\n",
    "]\n",
    "i = 1\n",
    "for a in db.osm.aggregate(pipeline):\n",
    "    print \"Node \",i,\"th contributer:\"\n",
    "    print \"name: \",a[u'_id'],\" ; count:\",a[u'count']\n",
    "    i+=1\n",
    "print \"----------------\"\n",
    "pipeline = [\n",
    "    {\"$match\":{\"object_type\":\"relation\"}},\n",
    "    {\"$group\":{\"_id\":\"$user\",\"count\":{\"$sum\":1}}},\n",
    "    {\"$sort\":{\"count\":-1}},\n",
    "    {\"$limit\":3}\n",
    "]\n",
    "i = 1\n",
    "for a in db.osm.aggregate(pipeline):\n",
    "    print \"Relation \",i,\"th contributer:\"\n",
    "    print \"name: \",a[u'_id'],\" ; count:\",a[u'count']\n",
    "    i+=1"
   ]
  },
  {
   "cell_type": "code",
   "execution_count": 263,
   "metadata": {
    "collapsed": false
   },
   "outputs": [
    {
     "name": "stdout",
     "output_type": "stream",
     "text": [
      "Top 5 contributer combined (in way): 55 %\n",
      "Top 5 contributer combined (in node): 46 %\n",
      "Top 5 contributer combined (in relation): 83 %\n"
     ]
    }
   ],
   "source": [
    "# top 5 users contribution\n",
    "pipeline = [\n",
    "    {\"$match\":{\"object_type\":\"way\"}},\n",
    "    {\"$group\":{\"_id\":\"$user\",\"count\":{\"$sum\":1}}},\n",
    "    {\"$sort\":{\"count\":-1}},\n",
    "    {\"$limit\":5},\n",
    "    {\"$group\":{\"_id\":\"top10\",\"count\":{\"$sum\":\"$count\"}}}\n",
    "]\n",
    "for a in db.osm.aggregate(pipeline):\n",
    "    print \"Top 5 contributer combined (in way):\",int(a[\"count\"]*1.0/total_in_way*100),\"%\"\n",
    "\n",
    "pipeline = [\n",
    "    {\"$match\":{\"object_type\":\"node\"}},\n",
    "    {\"$group\":{\"_id\":\"$user\",\"count\":{\"$sum\":1}}},\n",
    "    {\"$sort\":{\"count\":-1}},\n",
    "    {\"$limit\":5},\n",
    "    {\"$group\":{\"_id\":\"top10\",\"count\":{\"$sum\":\"$count\"}}}\n",
    "]\n",
    "for a in db.osm.aggregate(pipeline):\n",
    "    print \"Top 5 contributer combined (in node):\",int(a[\"count\"]*1.0/total_in_node*100),\"%\"\n",
    "\n",
    "pipeline = [\n",
    "    {\"$match\":{\"object_type\":\"relation\"}},\n",
    "    {\"$group\":{\"_id\":\"$user\",\"count\":{\"$sum\":1}}},\n",
    "    {\"$sort\":{\"count\":-1}},\n",
    "    {\"$limit\":5},\n",
    "    {\"$group\":{\"_id\":\"top10\",\"count\":{\"$sum\":\"$count\"}}}\n",
    "]\n",
    "for a in db.osm.aggregate(pipeline):\n",
    "    print \"Top 5 contributer combined (in relation):\",int(a[\"count\"]*1.0/total_in_relation*100),\"%\""
   ]
  },
  {
   "cell_type": "code",
   "execution_count": 265,
   "metadata": {
    "collapsed": false
   },
   "outputs": [
    {
     "data": {
      "image/png": "[encoded data removed]",
      "text/plain": [
       "<matplotlib.figure.Figure at 0x168b1b250>"
      ]
     },
     "metadata": {},
     "output_type": "display_data"
    }
   ],
   "source": [
    "user_ranking = []\n",
    "pipeline = [\n",
    "    {\"$match\":{\"object_type\":\"way\"}},\n",
    "    {\"$group\":{\"_id\":\"$user\",\"count\":{\"$sum\":1}}},\n",
    "    {\"$sort\":{\"count\":-1}},\n",
    "    {\"$limit\":10}\n",
    "]\n",
    "for a in db.osm.aggregate(pipeline):\n",
    "    user_ranking.append(a[\"count\"])\n",
    "mt.plot(user_ranking)\n",
    "mt.title(\"Way Contributer Ranking\")\n",
    "mt.xlabel(\"Ranking of contributer\")\n",
    "mt.ylabel(\"number of contributer\")\n",
    "mt.show()"
   ]
  },
  {
   "cell_type": "code",
   "execution_count": 267,
   "metadata": {
    "collapsed": false
   },
   "outputs": [
    {
     "data": {
      "image/png": "[encoded data removed]",
      "text/plain": [
       "<matplotlib.figure.Figure at 0x180b6d9d0>"
      ]
     },
     "metadata": {},
     "output_type": "display_data"
    }
   ],
   "source": [
    "user_ranking = []\n",
    "pipeline = [\n",
    "    {\"$match\":{\"object_type\":\"node\"}},\n",
    "    {\"$group\":{\"_id\":\"$user\",\"count\":{\"$sum\":1}}},\n",
    "    {\"$sort\":{\"count\":-1}},\n",
    "    {\"$limit\":10}\n",
    "]\n",
    "for a in db.osm.aggregate(pipeline):\n",
    "    user_ranking.append(a[\"count\"])\n",
    "mt.plot(user_ranking)\n",
    "mt.title(\"Node Contributer Ranking\")\n",
    "mt.xlabel(\"Ranking of contributer\")\n",
    "mt.ylabel(\"number of contributer\")\n",
    "mt.show()"
   ]
  },
  {
   "cell_type": "code",
   "execution_count": 268,
   "metadata": {
    "collapsed": false
   },
   "outputs": [
    {
     "data": {
      "image/png": "[encoded data removed]",
      "text/plain": [
       "<matplotlib.figure.Figure at 0x168cc0210>"
      ]
     },
     "metadata": {},
     "output_type": "display_data"
    }
   ],
   "source": [
    "user_ranking = []\n",
    "pipeline = [\n",
    "    {\"$match\":{\"object_type\":\"relation\"}},\n",
    "    {\"$group\":{\"_id\":\"$user\",\"count\":{\"$sum\":1}}},\n",
    "    {\"$sort\":{\"count\":-1}},\n",
    "    {\"$limit\":10}\n",
    "]\n",
    "for a in db.osm.aggregate(pipeline):\n",
    "    user_ranking.append(a[\"count\"])\n",
    "mt.plot(user_ranking)\n",
    "mt.title(\"Relation Contributer Ranking\")\n",
    "mt.xlabel(\"Ranking of contributer\")\n",
    "mt.ylabel(\"number of contributer\")\n",
    "mt.show()"
   ]
  },
  {
   "cell_type": "markdown",
   "metadata": {},
   "source": [
    "# all the functions are here"
   ]
  },
  {
   "cell_type": "code",
   "execution_count": 29,
   "metadata": {
    "collapsed": true
   },
   "outputs": [],
   "source": [
    "# this function take a addr, and returns a location dict of each of the elements in a addr\n",
    "# e.g. city: [0,2] means the \"city\" part of the addr is located starts from 0 and ends in 2\n",
    "# in the addr string\n",
    "def add_location(addr):\n",
    "    names={\n",
    "        \"district\":[u\"區\"],\n",
    "        #\"village\":[u\"里\",u\"村\"],\n",
    "        \"road\":[u\"路\"],\n",
    "        \"lane\":[u\"巷\"],\n",
    "        \"alley\":[u\"弄\"],\n",
    "        \"section\":[u\"段\"],\n",
    "        \"city\":[u\"市\"],\n",
    "        \"no\":[u\"號\"],\n",
    "        \"seperator\":[ur\"(\",ur\")\",ur\"[\",ur\"]\",ur\" \"]\n",
    "    }\n",
    "    names_loc={}\n",
    "    try:\n",
    "        postcode=int(addr[0:5])\n",
    "        addr_n=addr[5:]\n",
    "        loc_pos=5\n",
    "        location=[0]\n",
    "        names_loc[\"postcode\"]={1:[4]}\n",
    "    except:\n",
    "        try:\n",
    "            postcode=int(addr[0:3])\n",
    "            addr_n=addr[3:]\n",
    "            loc_pos=3\n",
    "            location=[0]\n",
    "            names_loc[\"postcode\"]={1:[2]}\n",
    "        except:\n",
    "            loc_pos=0\n",
    "            location=[]\n",
    "            addr_n=addr\n",
    "    # make dict of items&locations\n",
    "    for key,value in names.iteritems():\n",
    "        for a in value:\n",
    "            names_loc[key]={}\n",
    "            loc_e=0\n",
    "            i=1\n",
    "            while loc_e<len(addr):\n",
    "                loc_e=addr_n.find(a,loc_e)\n",
    "                if loc_e==-1:\n",
    "                    break\n",
    "                names_loc[key].update({i:[loc_e+loc_pos]})\n",
    "                loc_e+=len(a)\n",
    "                i+=1\n",
    "    location=[]\n",
    "    # write all location in a list\n",
    "    for key,value in names_loc.iteritems():\n",
    "        for a in value:\n",
    "            location.append(value[a][0])\n",
    "    # compare to find repective previous item\n",
    "    for key,value in names_loc.iteritems():\n",
    "        i=1\n",
    "        while i<=len(value):\n",
    "            cur_loc=value[i][0]\n",
    "            start_candidate=[cur_loc-a if cur_loc>a and a>=0 else 99 for a in location]\n",
    "            names_loc[key][i].append(cur_loc-min(start_candidate))\n",
    "            i+=1\n",
    "    # eliminate None value\n",
    "    final={}\n",
    "    for key,value in names_loc.iteritems():\n",
    "        if not bool(value):\n",
    "            pass\n",
    "        else:\n",
    "            final.update({key:{}})\n",
    "            i=1\n",
    "            while i<=len(value):\n",
    "                if value[i][1]<0:\n",
    "                    start=0\n",
    "                else:\n",
    "                    start=value[i][1]+1\n",
    "                final[key].update({i:[start,value[i][0]]})\n",
    "                i+=1\n",
    "    return final\n",
    "\n",
    "# this function takes a addr and reformat them \n",
    "# using the previous function\n",
    "# all the addr will be in the following sequence:\n",
    "# city, district, street, no\n",
    "def reformatter(addr):\n",
    "    loc=add_location(addr)\n",
    "    def get_name(name):\n",
    "        return addr[loc[name][1][0]:loc[name][1][1]+1]\n",
    "    \n",
    "    # street name (optional)\n",
    "    try:\n",
    "        street_full=get_name(\"road\")+get_name(\"section\")\n",
    "    except:\n",
    "        try:\n",
    "            street_full=get_name(\"road\")\n",
    "        except:\n",
    "            street_full=\"\"\n",
    "    # lane & alley (optional)\n",
    "    try:\n",
    "        lane_alley=get_name(\"lane\")+get_name(\"alley\")\n",
    "    except:\n",
    "        try:\n",
    "            lane_alley=get_name(\"lane\")\n",
    "        except:\n",
    "            lane_alley=\"\"\n",
    "    # district\n",
    "    try:\n",
    "        dis=get_name(\"district\")\n",
    "    except:\n",
    "        dis=\"\"\n",
    "    \n",
    "    #postcode\n",
    "    try:\n",
    "        post=get_name(\"postcode\")\n",
    "    except:\n",
    "        post=\"\"\n",
    "    \n",
    "    #no\n",
    "    try:\n",
    "        num=get_name(\"no\")\n",
    "    except:\n",
    "        num=\"\"\n",
    "\n",
    "    # city\n",
    "    try:\n",
    "        city=get_name(\"city\")\n",
    "    except:\n",
    "        city=\"\"\n",
    "\n",
    "    final=city+dis+street_full+lane_alley+num\n",
    "    return final\n",
    "\n",
    "# getting some part of the address\n",
    "def get_name(addr,name):\n",
    "    loc=add_location(addr)\n",
    "    try:\n",
    "        final=addr[loc[name][1][0]:loc[name][1][1]+1]\n",
    "    except:\n",
    "        final=None\n",
    "    return final\n",
    "\n",
    "# since the \"street\" part of an addr is more complicated,\n",
    "# it's retrieved using another function\n",
    "def get_street(addr):\n",
    "    loc=add_location(addr)\n",
    "    def get_name(name):\n",
    "        return addr[loc[name][1][0]:loc[name][1][1]+1]\n",
    "    \n",
    "    # street name (optional)\n",
    "    try:\n",
    "        street_full=get_name(\"road\")+get_name(\"section\")\n",
    "    except:\n",
    "        try:\n",
    "            street_full=get_name(\"road\")\n",
    "        except:\n",
    "            street_full=\"\"\n",
    "    # lane & alley (optional)\n",
    "    try:\n",
    "        lane_alley=get_name(\"lane\")+get_name(\"alley\")\n",
    "    except:\n",
    "        try:\n",
    "            lane_alley=get_name(\"lane\")\n",
    "        except:\n",
    "            lane_alley=\"\"\n",
    "    try:\n",
    "        street_all=street_full+lane_alley\n",
    "    except:\n",
    "        street_all=street_full\n",
    "    \n",
    "    return street_all\n",
    "\n",
    "def street_formatter(addr):\n",
    "    loc=add_location(addr)\n",
    "    def get_name(name):\n",
    "        return addr[loc[name][1][0]:loc[name][1][1]+1]\n",
    "    \n",
    "    # street name (optional)\n",
    "    try:\n",
    "        street_full=get_name(\"road\")+get_name(\"section\")\n",
    "    except:\n",
    "        try:\n",
    "            street_full=get_name(\"road\")\n",
    "        except:\n",
    "            street_full=\"\"\n",
    "    # lane & alley (optional)\n",
    "    try:\n",
    "        lane_alley=get_name(\"lane\")+get_name(\"alley\")\n",
    "    except:\n",
    "        try:\n",
    "            lane_alley=get_name(\"lane\")\n",
    "        except:\n",
    "            lane_alley=\"\"\n",
    "    try:\n",
    "        street_all=street_full+lane_alley\n",
    "    except:\n",
    "        street_all=street_full\n",
    "    \n",
    "    return street_all"
   ]
  },
  {
   "cell_type": "code",
   "execution_count": 62,
   "metadata": {
    "collapsed": false
   },
   "outputs": [
    {
     "data": {
      "text/plain": [
       "{u'@changeset': 34823124,\n",
       " u'@id': 33574,\n",
       " u'@timestamp': u'2015-10-23T15:44:41Z',\n",
       " u'@uid': 1215520,\n",
       " u'@user': u'bananatw',\n",
       " u'@version': 12,\n",
       " u'_id': ObjectId('593e35d807ab8814e8d184ed'),\n",
       " u'member': [{u'@ref': 60793791, u'@role': u'outer', u'@type': u'way'},\n",
       "  {u'@ref': 364410686, u'@role': u'outer', u'@type': u'way'}],\n",
       " u'tag': [{u'@k': u'name', u'@v': u'\\u897f\\u9580\\u570b\\u5c0f'},\n",
       "  {u'@k': u'type', u'@v': u'multipolygon'},\n",
       "  {u'@k': u'phone', u'@v': u'+886-2-2389-2182'},\n",
       "  {u'@k': u'amenity', u'@v': u'school'},\n",
       "  {u'@k': u'website', u'@v': u'http://core.hmes.tp.edu.tw/'},\n",
       "  {u'@k': u'operator',\n",
       "   u'@v': u'\\u81fa\\u5317\\u5e02\\u653f\\u5e9c\\u6559\\u80b2\\u5c40'},\n",
       "  {u'@k': u'addr:city', u'@v': u'\\u81fa\\u5317\\u5e02'},\n",
       "  {u'@k': u'addr:full',\n",
       "   u'@v': u'\\u81fa\\u5317\\u5e02\\u842c\\u83ef\\u5340\\u6210\\u90fd\\u8def98\\u865f'},\n",
       "  {u'@k': u'addr:street', u'@v': u'\\u6210\\u90fd\\u8def'},\n",
       "  {u'@k': u'addr:country', u'@v': u'TW'},\n",
       "  {u'@k': u'addr:district', u'@v': u'\\u842c\\u83ef\\u5340'},\n",
       "  {u'@k': u'addr:postcode', u'@v': 10845},\n",
       "  {u'@k': u'official_name',\n",
       "   u'@v': u'\\u81fa\\u5317\\u5e02\\u842c\\u83ef\\u5340\\u897f\\u9580\\u570b\\u6c11\\u5c0f\\u5b78'},\n",
       "  {u'@k': u'addr:housenumber', u'@v': 98}]}"
      ]
     },
     "execution_count": 62,
     "metadata": {},
     "output_type": "execute_result"
    }
   ],
   "source": [
    "db.osm_relation.find_one()"
   ]
  },
  {
   "cell_type": "code",
   "execution_count": 84,
   "metadata": {
    "collapsed": false
   },
   "outputs": [
    {
     "name": "stdout",
     "output_type": "stream",
     "text": [
      "17\n"
     ]
    }
   ],
   "source": [
    "changed = 0\n",
    "for a in db.osm_relation.find({u\"tag.@k\":\"addr:full\"}):\n",
    "    o_id=a[u'_id']\n",
    "    for b in a[\"tag\"]:\n",
    "        if b[\"@k\"]==\"addr:full\":\n",
    "            full_addr=b[\"@v\"]\n",
    "    for b in a[\"tag\"]:\n",
    "        if b[\"@k\"]==\"addr:district\":\n",
    "            if b[\"@v\"]!=get_name(full_addr,\"district\") and get_name(full_addr,\"district\")!=\"\" and get_name(full_addr,\"district\")!=None:\n",
    "                b[\"@v\"] = get_name(full_addr,\"district\")\n",
    "                changed +=1\n",
    "        if b[\"@k\"]==\"addr:street\":\n",
    "            if b[\"@v\"]!=get_street(full_addr) and get_street(full_addr)!=\"\" and get_street(full_addr)!=None:\n",
    "                b[\"@v\"] = get_street(full_addr)\n",
    "                changed +=1\n",
    "        if b[\"@k\"]==\"addr:city\":\n",
    "            if b[\"@v\"]!=get_name(full_addr,\"city\") and get_name(full_addr,\"city\")!=\"\" and get_name(full_addr,\"city\")!=None:\n",
    "                b[\"@v\"] = get_name(full_addr,\"city\")\n",
    "                changed +=1\n",
    "        if b[\"@k\"]==\"addr:postcode\":\n",
    "            if b[\"@v\"]!=get_name(full_addr,\"postcode\") and get_name(full_addr,\"postcode\")!=\"\" and get_name(full_addr,\"postcode\")!=None:\n",
    "                b[\"@v\"] = get_name(full_addr,\"postcode\")\n",
    "                changed +=1\n",
    "    del a[u'_id'];\n",
    "    db.osm_relation.replace_one({u'_id': o_id},a)\n",
    "print changed\n",
    "# changed instance: 17"
   ]
  },
  {
   "cell_type": "code",
   "execution_count": 80,
   "metadata": {
    "collapsed": false,
    "scrolled": true
   },
   "outputs": [
    {
     "name": "stdout",
     "output_type": "stream",
     "text": [
      "10845\n",
      "10852\n",
      "10048\n",
      "10860\n",
      "10841\n",
      "10341\n",
      "11605\n",
      "11676\n",
      "10091\n",
      "10048\n",
      "10066\n",
      "11643\n",
      "11643\n",
      "116\n",
      "23554\n",
      "23554\n",
      "106\n",
      "10066\n",
      "10048\n",
      "231\n",
      "111\n",
      "10663\n",
      "10465\n",
      "111\n",
      "10462\n",
      "10462\n",
      "10462\n",
      "22050\n",
      "22049\n",
      "10051\n",
      "10864\n",
      "10864\n",
      "10863\n",
      "23578\n",
      "23578\n",
      "10647\n",
      "10884\n",
      "111\n",
      "10490\n",
      "10489\n",
      "10489\n",
      "10476\n",
      "110\n",
      "110\n",
      "11468\n",
      "11464\n",
      "11464\n",
      "10085\n",
      "10058\n",
      "106\n",
      "10567\n",
      "111\n",
      "10351\n",
      "10081\n",
      "10048\n",
      "10582\n",
      "10048\n",
      "10058\n",
      "231\n",
      "10049\n",
      "10087\n",
      "11677\n",
      "108\n",
      "23570\n",
      "11656\n",
      "11656\n",
      "11665\n",
      "104\n",
      "10066\n",
      "10074\n",
      "10066\n",
      "234\n",
      "11693\n",
      "100\n",
      "114\n",
      "11031\n"
     ]
    }
   ],
   "source": [
    "# check for update result\n",
    "for a in db.osm_relation.find({u\"tag.@k\":\"addr:full\"}):\n",
    "    for b in a[\"tag\"]:\n",
    "        if b[\"@k\"]==\"addr:postcode\":\n",
    "            field=b[\"@v\"]\n",
    "            print field"
   ]
  },
  {
   "cell_type": "markdown",
   "metadata": {},
   "source": [
    "# backup codes (plz ignore this section)"
   ]
  },
  {
   "cell_type": "code",
   "execution_count": 176,
   "metadata": {
    "collapsed": false,
    "scrolled": true
   },
   "outputs": [],
   "source": [
    "for event, elem in et.iterparse(osm_file,events = (\"start\",)):\n",
    "    result_dict = {}\n",
    "    if elem.tag == \"relation\":\n",
    "        result_dict.update({\"object_type\":\"relation\"})\n",
    "        result_dict.update(elem.attrib)\n",
    "        for a in elem.iter(\"tag\"):\n",
    "            if a.attrib[\"k\"].find(\"addr\") != -1:\n",
    "                addr_bin = True\n",
    "                addr_dict = {}\n",
    "            else:\n",
    "                addr_bin = False\n",
    "        for a in elem.iter(\"tag\"):\n",
    "            if a.attrib[\"k\"] == \"addr:full\":\n",
    "                full_addr = a.attrib[\"v\"]\n",
    "        for a in elem.iter(\"tag\"):\n",
    "            if a.attrib[\"k\"].find(\":\") != -1:\n",
    "                name_split = a.attrib[\"k\"].split(\":\")\n",
    "                if name_split[0] == \"addr\":\n",
    "                    if name_split[1] ==\"full\":\n",
    "                        addr = reformatter(full_addr)\n",
    "                        addr_dict.update({name_split[1]:addr})\n",
    "                        #print addr,\"xxx\",full_addr\n",
    "                    elif name_split[1] == \"city\":\n",
    "                        if a.attrib[\"v\"]!=get_name(full_addr,\"city\") and get_name(full_addr,\"city\")!=\"\" and type(get_name(full_addr,\"city\"))!=None:\n",
    "                            addr_dict.update({name_split[1]:get_name(full_addr,\"city\")})\n",
    "                            #print a.attrib[\"v\"],\"xxx\",get_name(full_addr,\"city\")\n",
    "                        else:\n",
    "                            addr_dict.update({name_split[1]:a.attrib[\"v\"]})\n",
    "                    elif name_split[1] == \"street\":\n",
    "                        if a.attrib[\"v\"]!=get_street(full_addr) and get_street(full_addr)!=\"\" and get_street(full_addr) is not None:\n",
    "                            addr_dict.update({name_split[1]:get_street(full_addr)})\n",
    "                            #print a.attrib[\"v\"],\"xxxx\",get_street(full_addr)\n",
    "                        else:\n",
    "                            addr_dict.update({name_split[1]:a.attrib[\"v\"]})\n",
    "                    elif name_split[1] == \"district\":\n",
    "                        if a.attrib[\"v\"]!=get_name(full_addr,\"district\") and get_name(full_addr,\"district\")!=\"\" and type(get_name(full_addr,\"district\"))!=None:\n",
    "                            addr_dict.update({name_split[1]:get_name(full_addr,\"district\")})\n",
    "                            #print a.attrib[\"v\"],\"xxx\",get_name(full_addr,\"district\")\n",
    "                        else:\n",
    "                            addr_dict.update({name_split[1]:a.attrib[\"v\"]})\n",
    "                    elif name_split[1] == \"postcode\":\n",
    "                        if a.attrib[\"v\"]!=get_name(full_addr,\"postcode\") and get_name(full_addr,\"postcode\")!=\"\" and get_name(full_addr,\"postcode\")!=\"None\":\n",
    "                            addr_dict.update({name_split[1]:get_name(full_addr,\"postcode\")})\n",
    "                            #print a.attrib[\"v\"],\"xxx\",get_name(full_addr,\"postcode\")\n",
    "                        else:\n",
    "                            addr_dict.update({name_split[1]:a.attrib[\"v\"]})\n",
    "                    else:\n",
    "                        addr_dict.update({name_split[1]:a.attrib[\"v\"]})\n",
    "                else:\n",
    "                    content = a.attrib[\"v\"]\n",
    "                    result_dict.update({name_split[1]:content})\n",
    "            else:\n",
    "                content = a.attrib[\"v\"]\n",
    "                result_dict.update({a.attrib[\"k\"]:content})\n",
    "        if addr_bin:\n",
    "            result_dict.update({\"addr\":addr_dict})\n",
    "        else:\n",
    "            pass\n",
    "        db.osm.insert_one(result_dict)"
   ]
  }
 ],
 "metadata": {
  "kernelspec": {
   "display_name": "Python 2",
   "language": "python",
   "name": "python2"
  },
  "language_info": {
   "codemirror_mode": {
    "name": "ipython",
    "version": 2
   },
   "file_extension": ".py",
   "mimetype": "text/x-python",
   "name": "python",
   "nbconvert_exporter": "python",
   "pygments_lexer": "ipython2",
   "version": "2.7.13"
  }
 },
 "nbformat": 4,
 "nbformat_minor": 0
}
